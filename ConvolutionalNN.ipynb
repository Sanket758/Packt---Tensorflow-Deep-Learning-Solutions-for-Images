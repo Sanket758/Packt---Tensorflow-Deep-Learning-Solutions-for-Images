{
 "cells": [
  {
   "cell_type": "code",
   "execution_count": 10,
   "metadata": {},
   "outputs": [],
   "source": [
    "import keras\n",
    "from keras.layers import Input, MaxPooling2D, Dense, Dropout, Flatten, Conv2D\n",
    "import numpy as np\n",
    "import matplotlib.pyplot as plt\n",
    "from keras.datasets import mnist\n",
    "%matplotlib inline"
   ]
  },
  {
   "cell_type": "code",
   "execution_count": 5,
   "metadata": {},
   "outputs": [],
   "source": [
    "(x_train, y_train), (x_test, y_test) = mnist.load_data()\n",
    "x_train = np.expand_dims(x_train / np.max(x_train), -1)\n",
    "x_test = np.expand_dims(x_test / np.max(x_test), -1)\n",
    "y_train = keras.utils.to_categorical(y_train,10)\n",
    "y_test = keras.utils.to_categorical(y_test,10)"
   ]
  },
  {
   "cell_type": "code",
   "execution_count": 12,
   "metadata": {},
   "outputs": [
    {
     "name": "stdout",
     "output_type": "stream",
     "text": [
      "Model: \"sequential_4\"\n",
      "_________________________________________________________________\n",
      "Layer (type)                 Output Shape              Param #   \n",
      "=================================================================\n",
      "conv2d_1 (Conv2D)            (None, 26, 26, 32)        320       \n",
      "_________________________________________________________________\n",
      "conv2d_2 (Conv2D)            (None, 24, 24, 64)        18496     \n",
      "_________________________________________________________________\n",
      "max_pooling2d_1 (MaxPooling2 (None, 12, 12, 64)        0         \n",
      "_________________________________________________________________\n",
      "dropout_1 (Dropout)          (None, 12, 12, 64)        0         \n",
      "_________________________________________________________________\n",
      "flatten_1 (Flatten)          (None, 9216)              0         \n",
      "_________________________________________________________________\n",
      "dense_1 (Dense)              (None, 128)               1179776   \n",
      "_________________________________________________________________\n",
      "dropout_2 (Dropout)          (None, 128)               0         \n",
      "_________________________________________________________________\n",
      "dense_2 (Dense)              (None, 10)                1290      \n",
      "=================================================================\n",
      "Total params: 1,199,882\n",
      "Trainable params: 1,199,882\n",
      "Non-trainable params: 0\n",
      "_________________________________________________________________\n"
     ]
    }
   ],
   "source": [
    "input_shape = x_train[0].shape\n",
    "num_classes=10\n",
    "model = keras.models.Sequential()\n",
    "model.add(Conv2D(32, kernel_size=(3,3), activation='relu', input_shape=input_shape))\n",
    "model.add(Conv2D(64, (3,3), activation='relu'))\n",
    "model.add(MaxPooling2D(pool_size=(2,2)))\n",
    "model.add(Dropout(0.25))\n",
    "model.add(Flatten())\n",
    "model.add(Dense(128, activation='relu'))\n",
    "model.add(Dropout(0.5))\n",
    "model.add(Dense(num_classes, activation='softmax'))\n",
    "\n",
    "model.summary()"
   ]
  },
  {
   "cell_type": "code",
   "execution_count": 14,
   "metadata": {},
   "outputs": [
    {
     "name": "stdout",
     "output_type": "stream",
     "text": [
      "Train on 60000 samples, validate on 10000 samples\n",
      "Epoch 1/8\n",
      "60000/60000 [==============================] - 164s 3ms/step - loss: 0.0731 - accuracy: 0.9784 - val_loss: 0.0378 - val_accuracy: 0.9868\n",
      "Epoch 2/8\n",
      "60000/60000 [==============================] - 156s 3ms/step - loss: 0.0551 - accuracy: 0.9840 - val_loss: 0.0332 - val_accuracy: 0.9894\n",
      "Epoch 3/8\n",
      "60000/60000 [==============================] - 148s 2ms/step - loss: 0.0442 - accuracy: 0.9864 - val_loss: 0.0308 - val_accuracy: 0.9916\n",
      "Epoch 4/8\n",
      "60000/60000 [==============================] - 144s 2ms/step - loss: 0.0393 - accuracy: 0.9878 - val_loss: 0.0323 - val_accuracy: 0.9894\n",
      "Epoch 5/8\n",
      "60000/60000 [==============================] - 143s 2ms/step - loss: 0.0342 - accuracy: 0.9892 - val_loss: 0.0309 - val_accuracy: 0.9905\n",
      "Epoch 6/8\n",
      "60000/60000 [==============================] - 144s 2ms/step - loss: 0.0301 - accuracy: 0.9906 - val_loss: 0.0368 - val_accuracy: 0.9895\n",
      "Epoch 7/8\n",
      "60000/60000 [==============================] - 144s 2ms/step - loss: 0.0254 - accuracy: 0.9916 - val_loss: 0.0311 - val_accuracy: 0.9922\n",
      "Epoch 8/8\n",
      "60000/60000 [==============================] - 144s 2ms/step - loss: 0.0238 - accuracy: 0.9927 - val_loss: 0.0278 - val_accuracy: 0.9929\n"
     ]
    }
   ],
   "source": [
    "model.compile(loss='categorical_crossentropy',\n",
    "             optimizer='adam',\n",
    "             metrics=['accuracy'])\n",
    "history = model.fit(x_train, y_train, batch_size=64,\n",
    "                   epochs=8,\n",
    "                   verbose=1,\n",
    "                   validation_data=(x_test, y_test))"
   ]
  },
  {
   "cell_type": "code",
   "execution_count": null,
   "metadata": {},
   "outputs": [],
   "source": []
  }
 ],
 "metadata": {
  "kernelspec": {
   "display_name": "Python 3",
   "language": "python",
   "name": "python3"
  },
  "language_info": {
   "codemirror_mode": {
    "name": "ipython",
    "version": 3
   },
   "file_extension": ".py",
   "mimetype": "text/x-python",
   "name": "python",
   "nbconvert_exporter": "python",
   "pygments_lexer": "ipython3",
   "version": "3.7.6"
  }
 },
 "nbformat": 4,
 "nbformat_minor": 4
}
