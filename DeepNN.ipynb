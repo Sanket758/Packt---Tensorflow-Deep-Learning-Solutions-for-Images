{
 "cells": [
  {
   "cell_type": "code",
   "execution_count": 1,
   "metadata": {},
   "outputs": [
    {
     "name": "stderr",
     "output_type": "stream",
     "text": [
      "Using TensorFlow backend.\n"
     ]
    }
   ],
   "source": [
    "import keras\n",
    "from keras.layers import Input,MaxPooling1D, MaxPooling2D,AlphaDropout, Dense, Dropout, Flatten, Conv2D\n",
    "from keras.models import Model, Sequential\n",
    "import numpy as np\n",
    "import matplotlib.pyplot as plt\n",
    "from keras.datasets import mnist\n",
    "%matplotlib inline"
   ]
  },
  {
   "cell_type": "code",
   "execution_count": 3,
   "metadata": {},
   "outputs": [
    {
     "name": "stdout",
     "output_type": "stream",
     "text": [
      "[name: \"/device:CPU:0\"\n",
      "device_type: \"CPU\"\n",
      "memory_limit: 268435456\n",
      "locality {\n",
      "}\n",
      "incarnation: 16950083170285384853\n",
      ", name: \"/device:XLA_CPU:0\"\n",
      "device_type: \"XLA_CPU\"\n",
      "memory_limit: 17179869184\n",
      "locality {\n",
      "}\n",
      "incarnation: 9160533954044145435\n",
      "physical_device_desc: \"device: XLA_CPU device\"\n",
      "]\n"
     ]
    }
   ],
   "source": [
    "from tensorflow.python.client import device_lib\n",
    "print(device_lib.list_local_devices())"
   ]
  },
  {
   "cell_type": "code",
   "execution_count": 4,
   "metadata": {},
   "outputs": [],
   "source": [
    "(x_train, y_train), (x_test, y_test) = mnist.load_data()\n",
    "x_train = np.expand_dims(x_train / np.max(x_train), -1)\n",
    "x_test = np.expand_dims(x_test / np.max(x_test), -1)\n",
    "y_train = keras.utils.to_categorical(y_train,10)\n",
    "y_test = keras.utils.to_categorical(y_test,10)"
   ]
  },
  {
   "cell_type": "code",
   "execution_count": 5,
   "metadata": {},
   "outputs": [
    {
     "data": {
      "text/plain": [
       "<bound method Network.summary of <keras.engine.training.Model object at 0x7f87eda2e690>>"
      ]
     },
     "execution_count": 5,
     "metadata": {},
     "output_type": "execute_result"
    }
   ],
   "source": [
    "input_shape = x_train[0].shape\n",
    "classes = 10\n",
    "inputs = Input(shape=input_shape)\n",
    "\n",
    "#Block 1\n",
    "x = Conv2D(64,(3,3), activation='relu', padding='same',name='block1_conv1')(inputs)\n",
    "x = Conv2D(64,(3,3), activation='relu', padding='same',name='block1_conv2')(x)\n",
    "x = MaxPooling2D((2,2), strides=(2,2), name='block1_pool1')(x)\n",
    "\n",
    "#Block 2\n",
    "x = Conv2D(128,(3,3), activation='relu', padding='same',name='block2_conv1')(inputs)\n",
    "x = Conv2D(128,(3,3), activation='relu', padding='same',name='block2_conv2')(x)\n",
    "x = MaxPooling2D((2,2), strides=(2,2), name='block2_pool1')(x)\n",
    "\n",
    "#Block 3\n",
    "x = Conv2D(256,(3,3), activation='relu', padding='same',name='block3_conv1')(inputs)\n",
    "x = Conv2D(256,(3,3), activation='relu', padding='same',name='block3_conv2')(x)\n",
    "x = Conv2D(256,(3,3), activation='relu', padding='same',name='block3_conv3')(x)\n",
    "x = MaxPooling2D((2,2), strides=(2,2), name='block3_pool1')(x)\n",
    "\n",
    "# classification block\n",
    "x = Flatten(name='flatten')(x)\n",
    "x = Dense(512, activation='relu', name='fc1')(x)\n",
    "x = Dense(512, activation='relu', name='fc2')(x)\n",
    "x = Dense(classes,activation='softmax', name='predictions')(x)\n",
    "\n",
    "model = Model(inputs,x)\n",
    "model.summary"
   ]
  },
  {
   "cell_type": "code",
   "execution_count": 6,
   "metadata": {},
   "outputs": [],
   "source": [
    "model.compile(loss='categorical_crossentropy',\n",
    "             optimizer='adam',\n",
    "             metrics=['accuracy'])"
   ]
  },
  {
   "cell_type": "code",
   "execution_count": null,
   "metadata": {},
   "outputs": [],
   "source": [
    "history = model.fit(x_train, y_train, batch_size=64, epochs=8, verbose=1, validation_data=(x_test, y_test))"
   ]
  }
 ],
 "metadata": {
  "kernelspec": {
   "display_name": "Python 3",
   "language": "python",
   "name": "python3"
  },
  "language_info": {
   "codemirror_mode": {
    "name": "ipython",
    "version": 3
   },
   "file_extension": ".py",
   "mimetype": "text/x-python",
   "name": "python",
   "nbconvert_exporter": "python",
   "pygments_lexer": "ipython3",
   "version": "3.7.6"
  }
 },
 "nbformat": 4,
 "nbformat_minor": 4
}
